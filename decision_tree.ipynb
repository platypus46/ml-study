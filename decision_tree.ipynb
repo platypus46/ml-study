{
 "cells": [
  {
   "cell_type": "markdown",
   "metadata": {},
   "source": [
    "# 의사결정 트리(Decision Tree) "
   ]
  },
  {
   "cell_type": "markdown",
   "metadata": {},
   "source": [
    "Decision Tree는 분류와 회귀가 모두 가능한 지도 학습 모델이며 이름에서 알 수 있 듯이 tree구조에 기반하여 결정을 진행한다는 특징을 갖고 있다.  \n",
    "이는 우리가 하나의 결정을 내리는 자연적인 프로세스와 상충한다고 할 수 있다.    \n",
    "\n",
    "**(쉽게 스무고개를 떠올리면 이해가 쉽다.)**  \n",
    "\n",
    "의사결정트리에 따라 데이터를 구분하기위해서 특정 기준을 만들고 선택하게되는데 이때, 서로 다른 클래스가 많이 섞여있게 기준을 잡고 분할한다면 이를 순도(purity)가 낮다고 표현할 수 있다."
   ]
  },
  {
   "cell_type": "markdown",
   "metadata": {},
   "source": [
    "### 정보 이득"
   ]
  },
  {
   "cell_type": "markdown",
   "metadata": {},
   "source": [
    "**정보 엔트로피(information entroy)**  \n",
    "정포 엔트로피는 집합의 순도를 측정하는데 가장 자주 사용되는 지표이다. 엔트로피의 값이 작아질수록 샘플집합의 순도는 높아진다.  \n",
    "샘플 집합을 $D$라고 하고 $D$의 k번째 클래스 샘플이 차지하는 비율을 $p_k$(k=1,2,...,m)라고 한다면 $D$의 엔트로피를 아래와 같이 정의할 수 있게된다.\n",
    "\n",
    "$Ent(D)=-\\displaystyle\\sum_{k=1}^{m} p_klog_2(p_k)$"
   ]
  },
  {
   "cell_type": "markdown",
   "metadata": {},
   "source": [
    "### 그럼 이제 예시 데이터 셋을 가지고 와서 엔트로피를 구해보자"
   ]
  },
  {
   "cell_type": "markdown",
   "metadata": {},
   "source": [
    "+내용 추가 예정"
   ]
  }
 ],
 "metadata": {
  "kernelspec": {
   "display_name": "Python 3",
   "language": "python",
   "name": "python3"
  },
  "language_info": {
   "codemirror_mode": {
    "name": "ipython",
    "version": 3
   },
   "file_extension": ".py",
   "mimetype": "text/x-python",
   "name": "python",
   "nbconvert_exporter": "python",
   "pygments_lexer": "ipython3",
   "version": "3.7.6"
  }
 },
 "nbformat": 4,
 "nbformat_minor": 4
}

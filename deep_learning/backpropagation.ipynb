{
 "cells": [
  {
   "cell_type": "markdown",
   "metadata": {},
   "source": [
    "### 수치 미분과 수치 미분의 문제점"
   ]
  },
  {
   "cell_type": "markdown",
   "metadata": {},
   "source": [
    "**미분이란?**  \n",
    "변화율을 의미하며 물체의 시간에 따른 위치 변화율은 속도가 됨. "
   ]
  },
  {
   "cell_type": "markdown",
   "metadata": {},
   "source": [
    "**수치 미분 구현**  \n",
    "(컴퓨터로 극한을 표현하기 위해 1e-4와 같은 값을 이용하였고 이러한 미세한 차이를 이용하여 함수의 변화량을 구하는 방법을 수치미분이라고 함)"
   ]
  },
  {
   "cell_type": "code",
   "execution_count": 7,
   "metadata": {},
   "outputs": [
    {
     "name": "stdout",
     "output_type": "stream",
     "text": [
      "4.000000000004\n"
     ]
    }
   ],
   "source": [
    "#y=x**2 미분\n",
    "\n",
    "import numpy as np\n",
    "\n",
    "class Variable:\n",
    "    def __init__(self,data):\n",
    "        self.data=data\n",
    "\n",
    "class Function:\n",
    "    def __call__(self,input):\n",
    "        x=input.data\n",
    "        y=self.forward(x)\n",
    "        output=Variable(y)\n",
    "        return output\n",
    "\n",
    "class Square(Function):\n",
    "    def forward(self,x):\n",
    "        return x**2\n",
    "\n",
    "def numerical_diff(f,x,eps=1e-4):\n",
    "    x0=Variable(x.data-eps)\n",
    "    x1=Variable(x.data+eps)\n",
    "    y0=f(x0)\n",
    "    y1=f(x1)\n",
    "    return (y1.data-y0.data)/(2*eps)\n",
    "\n",
    "f=Square()\n",
    "x=Variable(np.array(2.0))\n",
    "dy=numerical_diff(f,x)\n",
    "print(dy)"
   ]
  },
  {
   "cell_type": "code",
   "execution_count": 9,
   "metadata": {},
   "outputs": [
    {
     "name": "stdout",
     "output_type": "stream",
     "text": [
      "3.2974426293330694\n"
     ]
    }
   ],
   "source": [
    "#y=((e^x)^2)^2\n",
    "\n",
    "class Exp(Function):\n",
    "    def forward(self,x):\n",
    "        return np.exp(x)\n",
    "    \n",
    "def f(x):\n",
    "    A=Square()\n",
    "    B=Exp()\n",
    "    C=Square()\n",
    "    return C(B(A(x)))\n",
    "\n",
    "x=Variable(np.array(0.5))\n",
    "dy=numerical_diff(f,x)\n",
    "print(dy)"
   ]
  },
  {
   "cell_type": "markdown",
   "metadata": {},
   "source": [
    "수치미분은 계산에 따라 다르지만 오차를 포함하고 변수가 여러 개인 계산을 미분한다면 변수 각각을 미분해야하기 때문에 신경망에 적용하는건 현실적이지 못하다는 단점이 있음.  \n",
    "\n",
    "**※계산비용과 정확도 면에서 문제가 존재**"
   ]
  },
  {
   "cell_type": "markdown",
   "metadata": {},
   "source": [
    "# 역전파(backpropagation)"
   ]
  },
  {
   "cell_type": "markdown",
   "metadata": {},
   "source": [
    "**연쇄법칙(chain rule)**: 함성 함수의 미분은 구성 함수를 각각 미분하고 곱한 것과 같다.  \n",
    "  \n",
    "y=F(x)라는 함수는 a=A(x), b=B(a), y=C(b)라는 세 함수로 구성되어 있다고 가정\n",
    "<img src=\"image/합성함수의예.png\" width=\"800\" height=\"300\">   \n",
    "이때 x에 대한 y의 미분은 아래의 식으로 표현이 가능함  \n",
    "$\\frac{dy}{dx}=((\\frac{dy}{dy}\\frac{dy}{db})\\frac{db}{da})\\frac{da}{dx}$  \n",
    "<img src=\"image/역전파그래프.png\" width=\"800\" height=\"300\">   "
   ]
  },
  {
   "cell_type": "markdown",
   "metadata": {},
   "source": [
    "#### 역전파를 이용한 미분 구현"
   ]
  },
  {
   "cell_type": "code",
   "execution_count": 15,
   "metadata": {},
   "outputs": [
    {
     "name": "stdout",
     "output_type": "stream",
     "text": [
      "3.297442541400256\n"
     ]
    }
   ],
   "source": [
    "class Variable:\n",
    "    def __init__(self,data):\n",
    "        self.data=data\n",
    "        self.grad=None\n",
    "        \n",
    "class Function:\n",
    "    def __call__(self,input):\n",
    "        x=input.data\n",
    "        y=self.forward(x)\n",
    "        output=Variable(y)\n",
    "        self.input=input\n",
    "        return output\n",
    "    \n",
    "def forward(self,x):\n",
    "    raise NotImplementedError()\n",
    "    \n",
    "def backward(self,gy):\n",
    "    raise NotImplementedError()\n",
    "    \n",
    "class Square(Function):\n",
    "    def forward(self,x):\n",
    "        y=x**2\n",
    "        return y\n",
    "    \n",
    "    def backward(self,gy):\n",
    "        x=self.input.data\n",
    "        gx=2*x*gy\n",
    "        return gx\n",
    "    \n",
    "class Exp(Function):\n",
    "    def forward(self,x):\n",
    "        y=np.exp(x)\n",
    "        return y\n",
    "    \n",
    "    def backward(self,gy):\n",
    "        x=self.input.data\n",
    "        gx=np.exp(x)*gy\n",
    "        return gx\n",
    "    \n",
    "A=Square()\n",
    "B=Exp()\n",
    "C=Square()\n",
    "\n",
    "x=Variable(np.array(0.5))\n",
    "a=A(x)\n",
    "b=B(a)\n",
    "y=C(b)\n",
    "\n",
    "y.grad=np.array(1.0)   #역전파는 dy/dy=1에서 시작함  \n",
    "b.grad=C.backward(y.grad)\n",
    "a.grad=B.backward(b.grad)\n",
    "x.grad=A.backward(a.grad)\n",
    "print(x.grad)"
   ]
  }
 ],
 "metadata": {
  "kernelspec": {
   "display_name": "Python 3",
   "language": "python",
   "name": "python3"
  },
  "language_info": {
   "codemirror_mode": {
    "name": "ipython",
    "version": 3
   },
   "file_extension": ".py",
   "mimetype": "text/x-python",
   "name": "python",
   "nbconvert_exporter": "python",
   "pygments_lexer": "ipython3",
   "version": "3.7.6"
  }
 },
 "nbformat": 4,
 "nbformat_minor": 4
}

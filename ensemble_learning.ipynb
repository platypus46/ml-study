{
 "cells": [
  {
   "cell_type": "markdown",
   "metadata": {},
   "source": [
    "# 앙상블 학습(ensemble learning)  \n",
    "- 다중 분류 시스템(multi-classifier system) or 위원회 기반 학습(committee-based learning)등으로 불리고 있다.\n",
    "- 다수의 학습기를 생성하고 결합해서 학습을 시도하는 방법이다.\n",
    "\n",
    "### 앙상블을 구성하는 이유는 크게 두가지로 나뉠 수 있다.\n",
    "- 기반 모형 하나의 가설공간은 제한적이기 때문에 편향이 강할 수 있기 때문이며 부가적으로 하나의 선형분류기로 표현하지못하는 삼각형영역을 표현할수 있게된다.\n",
    "- 다수의 분류기의 결합된 예측 확률이 하나의 분류기의 예측 확률보다가 작기때문에 분산에 있어서 장점을 갖는다.\n",
    "\n",
    "<img src=\"image/ensemble.png\" width=\"300\" height=\"300\">\n",
    "서로 다른 악기가 모여 하나의 소리를 내는 합주(ensemble)을 생각하다보면 바로 와닿을 것이다.\n",
    "\n",
    "\n"
   ]
  },
  {
   "cell_type": "markdown",
   "metadata": {},
   "source": [
    "### 앙상블을 구성하는 요소는 크게 4가지가 있다.\n",
    "1. 배깅(bagging)\n",
    "2. 랜덤포레스트(random forest)\n",
    "3. 스태킹(stacking)\n",
    "4. 부스팅(boosting)\n",
    "\n",
    "앙상블 학습법은 객체 학습기의 생성 형태를 기준으로 크게 두 갈래로 다시 나눌 수 있다.\n",
    "- 연속화(serialization): 객체 학습기 사이에 강한 의존관계가 있고 시리얼(Serial)로 생성되는 방법\n",
    "- 병렬화(parallelization): 객체 학습기 사이에 의존관계가 약하고 동시에 생성이 가능한 방법\n",
    "\n",
    "대표적으로 연속화를 사용한 방식에는 boosting이 있고 병렬화를 사용한 방법에는 bagging과 random forest가 있다.\n",
    "\n",
    "\n"
   ]
  },
  {
   "cell_type": "markdown",
   "metadata": {},
   "source": [
    "앙상블 모델 안에 여러개의 객체 학습기가 있다는 것까지는 인지했다.  \n",
    "그럼 이제 학습기를 결합하고 최종적으로 어떠한 예측값을 내놓는지 알아볼 예정이다. \n",
    "\n",
    "### 수치형, 분류형의 구분에 따라 결합전략 또한 달라진다."
   ]
  },
  {
   "cell_type": "markdown",
   "metadata": {},
   "source": [
    "#### 수치형에서 자주 사용되는 전략\n",
    "\n",
    "수치형 출력 $h_i(x) \\in R$에서 가장 자주 사용하는 결합형태는 평균법이다.\n",
    "\n",
    "이것도 두가지로 나눌 수 있다.\n",
    "- 단순 평균법(simple averaging)  \n",
    "$H(x)=\\frac{1}{T}\\displaystyle\\sum_{i=1}^{T}{h_i(x)}$\n",
    "\n",
    "- 가중 평균법(weighted averaging)  \n",
    "$H(x)=\\displaystyle\\sum_{i=1}^{T}{w_ih_i(x)}$  \n",
    "\n",
    "위의 식에서 알 수 있듯 단순평균법은 가중평균법에서 $w_i=\\frac{1}{T}$인 특수한 경우이다.  \n",
    "가중치는 훈련데이터를 통해 학습하여 얻는다."
   ]
  },
  {
   "cell_type": "markdown",
   "metadata": {},
   "source": [
    "#### 분류문제에서 자주 사용되는 전략\n",
    "분류문제는 학습기 $h_i$가 클래스 레이블 집합 {${c1,c2,...,c_N}$}에서 하나의 레이블을 예측해 내는 것으로 표현할 수 있다.\n",
    "\n",
    "여기서 **투표법(voting)** 이라는 키워드가 등장한다.\n",
    "\n",
    "- **절대다수 투표법(majority voting)**  \n",
    "어떤 레이블의 득표수가 절반을 넘으면 해당값으로 예측하고, 반대일 때는 예측하지 않는다.\n",
    "\n",
    "- **상대다수 투표법(plurality voting)**  \n",
    "기본적으로 최다득표한 레이블로 예측하는데 최다득표한 레이블이 다수일 경우 랜덤으로 하나를 선택한다.\n",
    "\n",
    "- **가중 투표법(weighted voting)**  \n",
    "가중치를 부여하여 투표한다. \n",
    "\n",
    " 투표방식은 하드보팅(hard voting)과 소프트보팅(soft voting) 두 가지로 나뉘는데 특정값이 과반인 경우를 선택하는 hard voting이라고 하고 확률형을 사용한 투표를 soft voting이라고 한다.\n",
    " \n",
    "소프트 보팅은 결정확률을 모두 더한 후 평균내서 가장 높은 값은 선택하는 방법이라고 이해할 수 있다."
   ]
  },
  {
   "cell_type": "markdown",
   "metadata": {},
   "source": [
    "*위에서 앙상블을 구성하는 요소를 짧게 언급만하고 넘어갔다. 이제 이 부분을 다루어보려고한다.*\n",
    "\n",
    "## 배깅(bagging:  bootstrap aggregation)\n",
    "하나의 동일한 훈련 데이터 셋에서 똑같이 훈련시키는 것이 아니라 훈련 데이터 셋에서 샘플을 여러개 선택해 모델을 구축하는 방법이다.  \n",
    "랜덤으로 하나의 샘플을 추출하는데 기존에 추출이 되었더라도 다시 추출하는 것이 가능하다. 즉 중복이 허용된다.\n",
    "\n",
    "## 랜덤포레스트(random forest)\n",
    "쉽게 decision tree+bagging이라고 보면된다.(decision tree는 다른 글에서 다루었다.)\n",
    "\n",
    "위의 표현이 직관적으로 안와닿을 것이다.  \n",
    "풀어서 아래와 같이 설명할 수 있다.  \n",
    "\n",
    "기존의 decision tree의 분할 속성 선택 시에는 해당 노드의 속성 집합 중 최적의 속성하나만 선택하는 것이다. random forest에서는 기초 decision tree의 각각의 노드에 대해 속성집합 중 최적의 속성을 선택해 분할하는 방법을 사용한다.  \n",
    "**(random forest는 많은 문제에서 좋은 성능을 보이기 때문에 앙상블학습을 대표하는 알고리즘이라고 할 수 있다.)**\n",
    "\n"
   ]
  },
  {
   "cell_type": "markdown",
   "metadata": {},
   "source": [
    "## 부스팅(boosting)\n",
    "초기 훈련 세트로 기초 학습기를 학습시키고 이 중 큰 오차가 있는 샘플에 가중치를 부여한다→가중치 적용 데이터를 다음 의사 결정 트리로 이동하고 →훈련 오차 인스턴스가 특정 임계값 이하로 떨어질 때까지 위의 두 과정을 반복한다.\n",
    "위와 같은 형태로 훈련이 이루어진다.\n",
    "\n",
    "기초 학습기: 같은 형태의 객체 학습기만 존재하는 앙상블에서의 단일 객체 학습기을 말한다.\n",
    "\n",
    "부스팅 계열 알고리즘 중에 가장 유명한 알고리즘은 **AdaBoost**가 있다."
   ]
  }
 ],
 "metadata": {
  "kernelspec": {
   "display_name": "Python 3",
   "language": "python",
   "name": "python3"
  },
  "language_info": {
   "codemirror_mode": {
    "name": "ipython",
    "version": 3
   },
   "file_extension": ".py",
   "mimetype": "text/x-python",
   "name": "python",
   "nbconvert_exporter": "python",
   "pygments_lexer": "ipython3",
   "version": "3.7.6"
  }
 },
 "nbformat": 4,
 "nbformat_minor": 4
}

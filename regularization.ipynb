{
 "cells": [
  {
   "cell_type": "markdown",
   "metadata": {},
   "source": [
    "# 규제 선형 모델\n",
    "\n",
    "- 릿지 회귀(Ridge Regression)\n",
    "- 라쏘 회귀(Lasso Regression)\n",
    "- 엘라스틱넷(Elastic Net)"
   ]
  },
  {
   "cell_type": "markdown",
   "metadata": {},
   "source": [
    "### 규제를 하는 이유\n",
    "\n",
    "모델이 가지는 parameter에 제약을 부여하여 overfitting을 방지하기위함.  \n",
    "(overfitting을 방지하기위해 cost를 증가시킨개념으로 이해하면 될 듯하다.)"
   ]
  },
  {
   "attachments": {},
   "cell_type": "markdown",
   "metadata": {},
   "source": [
    "## *Ridge Regression(L2 Regression)*\n",
    "  \n",
    "1. RSS+패널티 항의 합으로 이루어져있는 형태  \n",
    "2. 제약조건이 원으로 나타남  \n",
    "3. 다중공선성 문제에 상대적으로 좋은 성능을 보임    \n",
    "**L1norm과 L2norm의 개념을 알고있다면 쉽게 이해가능** \n",
    "\n",
    "$J(\\theta)=MSE(\\theta)+0.5a\\displaystyle\\sum_{i=1}^{n}{\\theta_i^2}$  "
   ]
  },
  {
   "attachments": {},
   "cell_type": "markdown",
   "metadata": {},
   "source": [
    "## *Lasso Regression(L1 Regession)* \n",
    "1. Ridge Regrssion과 달리 패널티항에 절대값의 합을 준게 특징\n",
    "2. 제약조건이 마름모꼴의 형태로 나타난다.  \n",
    "3. 중요성이 덜한 변수의 가중치를 0으로 만들어버려 변수 선택의 효과가 있다.  \n",
    "  \n",
    "$J(\\theta)=MSE(\\theta)+a\\displaystyle\\sum_{i=1}^{n}{\\vert \\theta \\vert}$"
   ]
  },
  {
   "attachments": {},
   "cell_type": "markdown",
   "metadata": {},
   "source": [
    "## *Elastic Net*\n",
    "\n",
    "1. 릿지회귀와 라쏘회귀를 절충한 모델이다.\n",
    "2. 혼합비율을 r을 사용하여 조절한다.  \n",
    "\n",
    "$J(\\theta)=MSE(\\theta)+ra\\displaystyle\\sum_{i=1}^{n}{\\vert \\theta \\vert}+((1-r)/2)*a\\displaystyle\\sum_{i=1}^{n}{\\theta_i^2}$"
   ]
  }
 ],
 "metadata": {
  "kernelspec": {
   "display_name": "Python 3",
   "language": "python",
   "name": "python3"
  },
  "language_info": {
   "codemirror_mode": {
    "name": "ipython",
    "version": 3
   },
   "file_extension": ".py",
   "mimetype": "text/x-python",
   "name": "python",
   "nbconvert_exporter": "python",
   "pygments_lexer": "ipython3",
   "version": "3.7.6"
  }
 },
 "nbformat": 4,
 "nbformat_minor": 4
}
